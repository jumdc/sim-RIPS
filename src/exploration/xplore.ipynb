{
 "cells": [
  {
   "cell_type": "markdown",
   "metadata": {},
   "source": [
    "## Xplore"
   ]
  },
  {
   "cell_type": "code",
   "execution_count": null,
   "metadata": {},
   "outputs": [],
   "source": [
    "import matplotlib.pyplot as plt\n",
    "import torch\n",
    "import torchvision.transforms as T\n",
    "import numpy as np\n",
    "from torchvision.datasets import STL10\n",
    "import pyrootutils  \n",
    "from sklearn.decomposition import PCA\n",
    "import pandas as pd\n",
    "import seaborn as sns\n",
    "\n",
    "root = pyrootutils.setup_root(\n",
    "    \"/home/jmordacq/Documents/IRBA/dev/sim-RIPS/\", # path to the root directory\n",
    "    project_root_env_var=True,\n",
    "    pythonpath=True)\n",
    "\n",
    "from toyxp.data_utils import Augment"
   ]
  },
  {
   "cell_type": "markdown",
   "metadata": {},
   "source": [
    "#### utils"
   ]
  },
  {
   "cell_type": "code",
   "execution_count": null,
   "metadata": {},
   "outputs": [],
   "source": [
    "def imshow(img):\n",
    "    \"\"\"\n",
    "    shows an imagenet-normalized image on the screen\n",
    "    \"\"\"\n",
    "    mean = torch.tensor([0.485, 0.456, 0.406], dtype=torch.float32)\n",
    "    std = torch.tensor([0.229, 0.224, 0.225], dtype=torch.float32)\n",
    "    unnormalize = T.Normalize((-mean / std).tolist(), (1.0 / std).tolist())\n",
    "    npimg = unnormalize(img).numpy()\n",
    "    plt.imshow(np.transpose(npimg, (1, 2, 0)))\n",
    "    plt.show()\n"
   ]
  },
  {
   "cell_type": "markdown",
   "metadata": {},
   "source": [
    "### Datasets"
   ]
  },
  {
   "cell_type": "code",
   "execution_count": null,
   "metadata": {},
   "outputs": [],
   "source": [
    "dataset = STL10(root='/home/jmordacq/Documents/IRBA/misc/datasets', split='train', transform=Augment().test_transform, download=True)\n",
    "images = [dataset[i][0].numpy().flatten() for i in range(len(dataset))]\n",
    "labels = [dataset[i][1] for i in range(len(dataset))]\n",
    "\n",
    "images_tensor = np.vstack(images)\n",
    "images_tensor = torch.tensor(images_tensor, dtype=torch.float32)\n",
    "\n",
    "test = STL10(root='/home/jmordacq/Documents/IRBA/misc/datasets', split='test', transform=Augment().test_transform, download=True)\n",
    "images_test = [test[i][0].numpy().flatten() for i in range(len(test))]\n",
    "labels_test = [test[i][1] for i in range(len(test))]"
   ]
  },
  {
   "cell_type": "code",
   "execution_count": null,
   "metadata": {},
   "outputs": [],
   "source": [
    "dataset_transform = STL10(root='/home/jmordacq/Documents/IRBA/misc/datasets', split='train', transform=Augment(), download=True)\n",
    "images_view1 = [dataset[i][0][0].numpy().flatten() for i in range(len(dataset))]\n",
    "images_view2 = [dataset[i][0][1].numpy().flatten() for i in range(len(dataset))]\n",
    "labels = [dataset[i][1] for i in range(len(dataset))]\n",
    "\n",
    "images_tensor_view1 = np.vstack(images_view1)\n",
    "images_tensor_view1 = torch.tensor(images_tensor_view1, dtype=torch.float32)\n",
    "\n",
    "\n",
    "images_tensor_view2 = np.vstack(images_view2)\n",
    "images_tensor_view2 = torch.tensor(images_view2, dtype=torch.float32)"
   ]
  },
  {
   "cell_type": "markdown",
   "metadata": {},
   "source": [
    "#### pca"
   ]
  },
  {
   "cell_type": "code",
   "execution_count": null,
   "metadata": {},
   "outputs": [],
   "source": [
    "pca = PCA(n_components=3)\n",
    "images_pca = pca.fit_transform(images)"
   ]
  },
  {
   "cell_type": "code",
   "execution_count": null,
   "metadata": {},
   "outputs": [],
   "source": [
    "df_pca = pd.DataFrame(images_pca, columns=[\"x\", \"y\", \"z\"])\n",
    "df_pca[\"labels\"] = labels\n",
    "sns.pairplot(df_pca, hue=\"labels\", palette=\"tab10\", vars=[\"x\", \"y\", \"z\"])"
   ]
  },
  {
   "cell_type": "code",
   "execution_count": null,
   "metadata": {},
   "outputs": [],
   "source": [
    "fig = plt.figure()\n",
    "ax = plt.axes(projection='3d')\n",
    "ax.view_init(0, 10, 0)\n",
    "ax.scatter3D(images_pca[:,0], \n",
    "             images_pca[:,1], \n",
    "             images_pca[:,2], \n",
    "             c=labels, \n",
    "             cmap=\"tab10\")\n"
   ]
  },
  {
   "cell_type": "markdown",
   "metadata": {},
   "source": [
    "### Persistent, structure in the dataset ?"
   ]
  },
  {
   "cell_type": "markdown",
   "metadata": {},
   "source": [
    "#### dataset as is"
   ]
  },
  {
   "cell_type": "code",
   "execution_count": null,
   "metadata": {},
   "outputs": [],
   "source": [
    "import torch_topological.nn"
   ]
  },
  {
   "cell_type": "code",
   "execution_count": null,
   "metadata": {},
   "outputs": [],
   "source": [
    "rips = torch_topological.nn.VietorisRipsComplex(dim=1, keep_infinite_features=True)\n",
    "pi = rips(images_tensor)"
   ]
  },
  {
   "cell_type": "code",
   "execution_count": null,
   "metadata": {},
   "outputs": [],
   "source": [
    "def plot_diagram(pi, title=\"Persistent Diagram\"):\n",
    "    max_x_1, max_y_1 = 0, 0\n",
    "    figure = plt.figure()\n",
    "    ax = figure.add_subplot(111)\n",
    "    colors = plt.cm.viridis(np.linspace(0, 1, len(pi)))\n",
    "    for dim in range(len(pi)):\n",
    "        diag = pi[dim].diagram.detach().cpu().numpy()\n",
    "        if len(diag) > 0:\n",
    "            inf_idx = np.where(np.isinf(diag[:,1]))\n",
    "            birth_inf = diag[inf_idx,0]\n",
    "            diag = np.delete(diag, inf_idx, axis=0)\n",
    "            max_x_1 = max(max_x_1, np.max(diag[:,0])) + 1\n",
    "            max_y_1 = max(max_y_1, np.max(diag[:,1])) + max(max_y_1, np.max(diag[:,1]))*0.1\n",
    "            ax.scatter(diag[:, 0], \n",
    "                        diag[:, 1], \n",
    "                        c=colors[dim],\n",
    "                        marker=\"x\",\n",
    "                        label=f\"$H_{dim}$ \")\n",
    "            ax.scatter(birth_inf, \n",
    "                    np.repeat(max_y_1, birth_inf.shape[1]),\n",
    "                    marker=\"o\",\n",
    "                    s=30,\n",
    "                    c=colors[dim],\n",
    "                    label=f\"$H_{dim}$ - inf\")\n",
    "    maxi = max(max_x_1, max_y_1)\n",
    "    ax.plot([0, maxi], [0, maxi], 'k--')\n",
    "    ax.set_xlim([0, maxi])\n",
    "    ax.set_ylim([0, maxi])\n",
    "    ax.set_xlabel(\"Birth\")\n",
    "    ax.set_ylabel(\"Death\")\n",
    "    ax.set_title(title)\n",
    "    ax.legend(loc=\"lower right\")\n",
    "    plt.show()\n"
   ]
  },
  {
   "cell_type": "code",
   "execution_count": null,
   "metadata": {},
   "outputs": [],
   "source": [
    "plot_diagram(pi)"
   ]
  },
  {
   "cell_type": "code",
   "execution_count": null,
   "metadata": {},
   "outputs": [],
   "source": [
    "for i in range(10):\n",
    "    class_idx = np.where(np.array(labels) == i)\n",
    "    plot_diagram(rips(images_tensor[class_idx]))\n",
    "    print(f\"Label {i}: {labels.count(i)}\")"
   ]
  },
  {
   "cell_type": "markdown",
   "metadata": {},
   "source": [
    "### considering the transforms"
   ]
  },
  {
   "cell_type": "code",
   "execution_count": null,
   "metadata": {},
   "outputs": [],
   "source": [
    "rips = torch_topological.nn.VietorisRipsComplex(dim=1, keep_infinite_features=True)\n",
    "pi_1 = rips(images_tensor_view1[:500])\n",
    "pi_2 = rips(images_tensor_view2[:500])"
   ]
  },
  {
   "cell_type": "code",
   "execution_count": null,
   "metadata": {},
   "outputs": [],
   "source": [
    "plot_diagram(pi_1, title=\"Persistent diagram - View 1\")\n",
    "plot_diagram(pi_2, title=\"Persistent diagram - View 2\")"
   ]
  },
  {
   "cell_type": "code",
   "execution_count": null,
   "metadata": {},
   "outputs": [],
   "source": [
    "wasserstein = torch_topological.nn.WassersteinDistance()\n",
    "wasserstein(pi_1, pi_2)"
   ]
  },
  {
   "cell_type": "markdown",
   "metadata": {},
   "source": [
    "### Considering the transforms per class"
   ]
  },
  {
   "cell_type": "code",
   "execution_count": null,
   "metadata": {},
   "outputs": [],
   "source": [
    "for i in range(10):\n",
    "    class_idx = np.where(np.array(labels) == i)\n",
    "    pi_1 = rips(images_tensor_view1[class_idx])\n",
    "    pi_2 = rips(images_tensor_view2[class_idx])\n",
    "    plot_diagram(pi_1, title=\"Persistent diagram - View 1 - class {}\".format(i))\n",
    "    plot_diagram(pi_2, title=\"Persistent diagram - View 2 - class {}\".format(i))\n",
    "\n",
    "    print(wasserstein(pi_1, pi_2))\n",
    "    \n",
    "    print(f\"Label {i}: {labels.count(i)}\")"
   ]
  },
  {
   "cell_type": "code",
   "execution_count": null,
   "metadata": {},
   "outputs": [],
   "source": []
  }
 ],
 "metadata": {
  "kernelspec": {
   "display_name": "difftda",
   "language": "python",
   "name": "python3"
  },
  "language_info": {
   "codemirror_mode": {
    "name": "ipython",
    "version": 3
   },
   "file_extension": ".py",
   "mimetype": "text/x-python",
   "name": "python",
   "nbconvert_exporter": "python",
   "pygments_lexer": "ipython3",
   "version": "3.9.18"
  }
 },
 "nbformat": 4,
 "nbformat_minor": 2
}
