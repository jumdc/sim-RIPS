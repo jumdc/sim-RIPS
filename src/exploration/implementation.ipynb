{
 "cells": [
  {
   "cell_type": "markdown",
   "metadata": {},
   "source": [
    "# Check implementation with Guhdi's"
   ]
  },
  {
   "cell_type": "code",
   "execution_count": 1,
   "metadata": {},
   "outputs": [
    {
     "name": "stderr",
     "output_type": "stream",
     "text": [
      "2024-02-15 10:45:09.888943: I tensorflow/core/util/port.cc:113] oneDNN custom operations are on. You may see slightly different numerical results due to floating-point round-off errors from different computation orders. To turn them off, set the environment variable `TF_ENABLE_ONEDNN_OPTS=0`.\n",
      "2024-02-15 10:45:09.934408: E external/local_xla/xla/stream_executor/cuda/cuda_dnn.cc:9261] Unable to register cuDNN factory: Attempting to register factory for plugin cuDNN when one has already been registered\n",
      "2024-02-15 10:45:09.934439: E external/local_xla/xla/stream_executor/cuda/cuda_fft.cc:607] Unable to register cuFFT factory: Attempting to register factory for plugin cuFFT when one has already been registered\n",
      "2024-02-15 10:45:09.935702: E external/local_xla/xla/stream_executor/cuda/cuda_blas.cc:1515] Unable to register cuBLAS factory: Attempting to register factory for plugin cuBLAS when one has already been registered\n",
      "2024-02-15 10:45:09.943490: I tensorflow/core/platform/cpu_feature_guard.cc:182] This TensorFlow binary is optimized to use available CPU instructions in performance-critical operations.\n",
      "To enable the following instructions: AVX2 AVX512F AVX512_VNNI FMA, in other operations, rebuild TensorFlow with the appropriate compiler flags.\n",
      "2024-02-15 10:45:10.811243: W tensorflow/compiler/tf2tensorrt/utils/py_utils.cc:38] TF-TRT Warning: Could not find TensorRT\n"
     ]
    }
   ],
   "source": [
    "import gudhi\n",
    "import numpy as np\n",
    "import matplotlib.pyplot as plt\n",
    "from ripslayer import RipsLayer\n",
    "import torch.nn as nn\n",
    "import torch\n",
    "import tensorflow as tf"
   ]
  },
  {
   "cell_type": "markdown",
   "metadata": {},
   "source": [
    "# Small example\n",
    "Analogy between the tf and torch's implementation"
   ]
  },
  {
   "cell_type": "code",
   "execution_count": 2,
   "metadata": {},
   "outputs": [
    {
     "name": "stderr",
     "output_type": "stream",
     "text": [
      "2024-02-15 10:45:16.734182: I tensorflow/core/common_runtime/gpu/gpu_device.cc:1929] Created device /job:localhost/replica:0/task:0/device:GPU:0 with 21875 MB memory:  -> device: 0, name: NVIDIA RTX A5000, pci bus id: 0000:d5:00.0, compute capability: 8.6\n",
      "/home/jmordacq/miniconda3/envs/difftda/lib/python3.9/site-packages/ot/backend.py:2998: UserWarning: To use TensorflowBackend, you need to activate the tensorflow numpy API. You can activate it by running: \n",
      "from tensorflow.python.ops.numpy_ops import np_config\n",
      "np_config.enable_numpy_behavior()\n",
      "  register_backend(TensorflowBackend())\n"
     ]
    }
   ],
   "source": [
    "# from gudhi.tensorflow.rips_layer import RipsLayer\n",
    "from gudhi.wasserstein import wasserstein_distance"
   ]
  },
  {
   "cell_type": "code",
   "execution_count": 3,
   "metadata": {},
   "outputs": [],
   "source": [
    "np.random.seed(1)\n",
    "angles = np.random.uniform(0,2*np.pi,100)\n",
    "X = np.hstack([ np.cos(angles)[:,None], np.sin(angles)[:,None] ])\n",
    "dim = 1\n",
    "X = np.array([[0.1,0.],[1.5,1.5],[0.,1.6]])\n",
    "dim = 0"
   ]
  },
  {
   "cell_type": "markdown",
   "metadata": {},
   "source": [
    "#### tensorflow"
   ]
  },
  {
   "cell_type": "code",
   "execution_count": 4,
   "metadata": {},
   "outputs": [
    {
     "name": "stderr",
     "output_type": "stream",
     "text": [
      "2024-02-15 10:45:17.423604: I external/local_tsl/tsl/platform/default/subprocess.cc:304] Start cannot spawn child process: No such file or directory\n"
     ]
    },
    {
     "name": "stdout",
     "output_type": "stream",
     "text": [
      "<gudhi.simplex_tree.SimplexTree object at 0x7f45ed8da720>\n"
     ]
    },
    {
     "name": "stderr",
     "output_type": "stream",
     "text": [
      "2024-02-15 10:45:17.866549: I external/local_xla/xla/service/service.cc:168] XLA service 0x94bd9a80 initialized for platform CUDA (this does not guarantee that XLA will be used). Devices:\n",
      "2024-02-15 10:45:17.866577: I external/local_xla/xla/service/service.cc:176]   StreamExecutor device (0): NVIDIA RTX A5000, Compute Capability 8.6\n"
     ]
    },
    {
     "name": "stdout",
     "output_type": "stream",
     "text": [
      "<gudhi.simplex_tree.SimplexTree object at 0x7f45ed8da900>\n"
     ]
    },
    {
     "name": "stderr",
     "output_type": "stream",
     "text": [
      "2024-02-15 10:45:19.908914: I external/local_xla/xla/stream_executor/cuda/cuda_dnn.cc:454] Loaded cuDNN version 8902\n",
      "WARNING: All log messages before absl::InitializeLog() is called are written to STDERR\n",
      "I0000 00:00:1707990319.998834 1669729 device_compiler.h:186] Compiled cluster using XLA!  This line is logged at most once for the lifetime of the process.\n"
     ]
    }
   ],
   "source": [
    "XTF = tf.Variable(X, dtype=tf.float32)\n",
    "lr = 1\n",
    "optimizer = tf.keras.optimizers.SGD(learning_rate=lr)\n",
    "\n",
    "num_epochs = 1\n",
    "losses, Dgs, Xs, grads = [], [], [], []\n",
    "for epoch in range(num_epochs+1):\n",
    "    with tf.GradientTape() as tape:\n",
    "        layer = RipsLayer(homology_dimensions=[dim], maximum_edge_length=10)\n",
    "        dgm = layer.call(X=XTF)[0][0]\n",
    "        loss = - wasserstein_distance(dgm, tf.constant(np.empty([0,2])), order=1, enable_autodiff=True)\n",
    "    Dgs.append(dgm.numpy())            \n",
    "    Xs.append(XTF.numpy())\n",
    "    losses.append(loss.numpy())\n",
    "    gradients = tape.gradient(loss, [XTF])\n",
    "    grads.append(gradients[0].numpy())\n",
    "    optimizer.apply_gradients(zip(gradients, [XTF]))\n",
    "\n",
    "# X_torch = torch.tensor(X, dtype=torch.float32, requires_grad=True)\n",
    "# lr = 1\n",
    "# optimizer = torch.optim.SGD([X_torch], lr=lr)\n",
    "\n",
    "# num_epochs = 1\n",
    "# losses, Dgs, Xs, grads = [], [], [], []\n",
    "# for epoch in range(num_epochs+1):\n",
    "#     layer = RipsLayer(homology_dimensions=[dim], maximum_edge_length=10)\n",
    "#     dgm = layer(X_torch)[0][0]\n",
    "#     loss = - wasserstein_distance(dgm, np.empty([0,2]), order=1, enable_autodiff=True)\n",
    "#     Dgs.append(dgm.detach().numpy())            \n",
    "#     Xs.append(X_torch.detach().numpy())\n",
    "#     losses.append(loss.detach().numpy())\n",
    "#     optimizer.zero_grad()\n",
    "#     loss.backward()\n",
    "#     optimizer.step()"
   ]
  },
  {
   "cell_type": "code",
   "execution_count": 5,
   "metadata": {},
   "outputs": [
    {
     "data": {
      "image/png": "[encoded data removed]",
      "text/plain": [
       "<Figure size 640x480 with 1 Axes>"
      ]
     },
     "metadata": {},
     "output_type": "display_data"
    }
   ],
   "source": [
    "pts_to_move = np.argwhere(np.linalg.norm(grads[0], axis=1) != 0).ravel()\n",
    "plt.figure()\n",
    "for pt in pts_to_move:\n",
    "    plt.arrow(Xs[0][pt,0], Xs[0][pt,1], -lr*grads[0][pt,0], -lr*grads[0][pt,1], color='blue',\n",
    "              length_includes_head=True, head_length=.05, head_width=.1, zorder=10)\n",
    "plt.scatter(Xs[0][:,0], Xs[0][:,1], c='red', s=50, alpha=.2,  zorder=3)\n",
    "plt.scatter(Xs[0][pts_to_move,0], Xs[0][pts_to_move,1], c='red',   s=150, marker='o', zorder=2, alpha=.7, label='Step i')\n",
    "plt.scatter(Xs[1][pts_to_move,0], Xs[1][pts_to_move,1], c='green', s=150, marker='o', zorder=1, alpha=.7, label='Step i+1')\n",
    "plt.axis('square')\n",
    "plt.legend()\n",
    "plt.show()"
   ]
  }
 ],
 "metadata": {
  "kernelspec": {
   "display_name": "difftda",
   "language": "python",
   "name": "python3"
  },
  "language_info": {
   "codemirror_mode": {
    "name": "ipython",
    "version": 3
   },
   "file_extension": ".py",
   "mimetype": "text/x-python",
   "name": "python",
   "nbconvert_exporter": "python",
   "pygments_lexer": "ipython3",
   "version": "3.9.18"
  }
 },
 "nbformat": 4,
 "nbformat_minor": 2
}
